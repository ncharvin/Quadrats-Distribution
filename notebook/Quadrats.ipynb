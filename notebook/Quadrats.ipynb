{
 "cells": [
  {
   "attachments": {},
   "cell_type": "markdown",
   "id": "b0471582",
   "metadata": {},
   "source": [
    "# Microscopy images analysis, based on quadrats method\n",
    "\n",
    "We will be using the following modules:\n",
    "* [NumPy](https://scikit-image.org)\n",
    "* [scikit-image](https://numpy.org)\n",
    "* [Matplotlib](https://matplotlib.org/)\n",
    "\n",
    "\n",
    "\n"
   ]
  },
  {
   "cell_type": "code",
   "execution_count": null,
   "id": "82471b06",
   "metadata": {},
   "outputs": [],
   "source": [
    "import numpy as np\n",
    "import skimage\n",
    "import matplotlib.pyplot as plt"
   ]
  },
  {
   "cell_type": "markdown",
   "id": "b679fb19",
   "metadata": {},
   "source": [
    "Let's start with the following binarized image:\n",
    "<img src=\"MixCircles.png\" alt=\"Drawing\" style=\"width: 200px;\"/>"
   ]
  },
  {
   "cell_type": "code",
   "execution_count": null,
   "id": "d3e96a48",
   "metadata": {},
   "outputs": [],
   "source": [
    "im = skimage.io.imread(\"MixCircles.png\")   #white objects over black background\n",
    "Xmax = im.shape[1]-1\n",
    "Ymax = im.shape[0]-1"
   ]
  },
  {
   "cell_type": "markdown",
   "id": "1c7acb48",
   "metadata": {},
   "source": [
    "## Segmentation\n",
    "We perform segmentaiton on the image, and add a label to each object found. Objects crossing image borders are dismissed. Informations about each object are gathered in a dict."
   ]
  },
  {
   "cell_type": "code",
   "execution_count": null,
   "id": "b67511b7",
   "metadata": {},
   "outputs": [],
   "source": [
    "labels = skimage.morphology.label(im)\n",
    "labels = skimage.segmentation.clear_border(labels)\n",
    "\n",
    "table = skimage.measure.regionprops_table(labels, properties=('label','centroid','area'))\n",
    "\n",
    "xcentroids,ycentroids = table['centroid-1'], table['centroid-0']"
   ]
  },
  {
   "cell_type": "markdown",
   "id": "44828b53",
   "metadata": {},
   "source": [
    "## Quadrats\n",
    "The image is split N times along the X and Y directions, resulting in N<sup>2</sup> rectangular regions, called quadrats."
   ]
  },
  {
   "cell_type": "code",
   "execution_count": null,
   "id": "a2d5a410",
   "metadata": {},
   "outputs": [],
   "source": [
    "N = 10\n",
    "quadrat_xsize = int(im.shape[1] / N)\n",
    "quadrat_ysize = int(im.shape[0] / N)\n",
    "\n",
    "# Display image\n",
    "\n",
    "fig,ax = plt.subplots()\n",
    "skimage.io.imshow(im)  \n",
    "\n",
    "# Plots quadrats\n",
    "for i in range(N):\n",
    "    for j in range(N):\n",
    "        x0,y0 = i*quadrat_xsize, j*quadrat_ysize\n",
    "        #plt.plot(x0,y0,'r*')\n",
    "        ax.add_patch(plt.Rectangle((int(x0),int(y0)), int(quadrat_xsize), int(quadrat_ysize), edgecolor='pink', fill=False))\n"
   ]
  },
  {
   "cell_type": "code",
   "execution_count": null,
   "id": "c613d95e",
   "metadata": {},
   "outputs": [],
   "source": []
  }
 ],
 "metadata": {
  "kernelspec": {
   "display_name": "Python 3 (ipykernel)",
   "language": "python",
   "name": "python3"
  },
  "language_info": {
   "codemirror_mode": {
    "name": "ipython",
    "version": 3
   },
   "file_extension": ".py",
   "mimetype": "text/x-python",
   "name": "python",
   "nbconvert_exporter": "python",
   "pygments_lexer": "ipython3",
   "version": "3.7.11"
  }
 },
 "nbformat": 4,
 "nbformat_minor": 5
}
