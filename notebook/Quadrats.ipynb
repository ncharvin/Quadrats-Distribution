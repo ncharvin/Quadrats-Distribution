{
 "cells": [
  {
   "attachments": {},
   "cell_type": "markdown",
   "id": "15734fa8",
   "metadata": {},
   "source": [
    "# Microscopy images analysis, based on quadrats method\n",
    "\n",
    "We will be using the following modules:\n",
    "* [NumPy](https://scikit-image.org)\n",
    "* [scikit-image](https://numpy.org)\n",
    "* [Matplotlib](https://matplotlib.org/)\n",
    "\n",
    "\n",
    "\n"
   ]
  },
  {
   "cell_type": "code",
   "execution_count": null,
   "id": "a0df6586",
   "metadata": {},
   "outputs": [],
   "source": [
    "import numpy as np\n",
    "import skimage\n",
    "import matplotlib\n",
    "import matplotlib.pyplot as plt"
   ]
  },
  {
   "cell_type": "markdown",
   "id": "063b0458",
   "metadata": {},
   "source": [
    "Let's start with the following binarized image:\n",
    "<img src=\"MixCircles.png\" alt=\"Drawing\" style=\"width: 200px;\"/>"
   ]
  },
  {
   "cell_type": "code",
   "execution_count": null,
   "id": "8bf9f9be",
   "metadata": {},
   "outputs": [],
   "source": [
    "im = skimage.io.imread(\"MixCircles.png\")   #white objects over black background\n",
    "\n",
    "Xmax = im.shape[1]-1\n",
    "Ymax = im.shape[0]-1"
   ]
  },
  {
   "cell_type": "markdown",
   "id": "2b7fb33e",
   "metadata": {},
   "source": [
    "## Segmentation\n",
    "We perform segmentaiton on the image, and add a label to each object found. Objects crossing image borders are dismissed. Informations about each object are gathered in a dict."
   ]
  },
  {
   "cell_type": "code",
   "execution_count": null,
   "id": "7b8947d4",
   "metadata": {},
   "outputs": [],
   "source": [
    "labels = skimage.morphology.label(im)\n",
    "labels = skimage.segmentation.clear_border(labels)\n",
    "\n",
    "table = skimage.measure.regionprops_table(labels, properties=('label','centroid','area'))\n",
    "\n",
    "xcentroids,ycentroids = table['centroid-1'], table['centroid-0']"
   ]
  },
  {
   "cell_type": "markdown",
   "id": "33326004",
   "metadata": {},
   "source": [
    "## Quadrats\n",
    "The image is split N times along the X and Y directions, resulting in N<sup>2</sup> rectangular regions, called quadrats."
   ]
  },
  {
   "cell_type": "code",
   "execution_count": null,
   "id": "343fa112",
   "metadata": {},
   "outputs": [],
   "source": [
    "N = 10\n",
    "quadrat_xsize = int(im.shape[1] / N)\n",
    "quadrat_ysize = int(im.shape[0] / N)\n",
    "\n",
    "# Display image\n",
    "\n",
    "fig,ax = plt.subplots()\n",
    "skimage.io.imshow(im)  \n",
    "\n",
    "# Plots quadrats\n",
    "for i in range(N):\n",
    "    for j in range(N):\n",
    "        x0,y0 = i*quadrat_xsize, j*quadrat_ysize\n",
    "        #plt.plot(x0,y0,'r*')\n",
    "        ax.add_patch(plt.Rectangle((int(x0),int(y0)), int(quadrat_xsize), int(quadrat_ysize), edgecolor='pink', fill=False))\n"
   ]
  },
  {
   "cell_type": "markdown",
   "id": "2d7eba76",
   "metadata": {},
   "source": [
    "For each quadrat, let's compute:\n",
    "* NSP, the white surface percentage of the image\n",
    "* NBN, the of nodules. Note that nodule belongs to a quadrat, if and only if the nodule centroid lies within the quadrat borders\n",
    "* Gamma, which equals to NSP / NBN. "
   ]
  },
  {
   "cell_type": "code",
   "execution_count": null,
   "id": "1cfd42e5",
   "metadata": {},
   "outputs": [],
   "source": [
    "def insideBBox(x,y,xbox,ybox,width, height):\n",
    "    \"\"\"\n",
    "    return True if point (x,y) is inside boundingbox located at (xbox,ybox)\n",
    "    and whose size is width and height\n",
    "    \"\"\"\n",
    "    inX = (x>=xbox) and (x<(xbox+width))\n",
    "    inY = (y>=ybox) and (y<(ybox+height))\n",
    "    \n",
    "    return (inX and inY)\n",
    "\n",
    "\n",
    "NBN_values=np.zeros((N,N))\n",
    "NSP_values=np.zeros((N,N))\n",
    "Gamma_values=np.zeros((N,N))\n",
    "\n",
    "\n",
    "\n",
    "\n",
    "for i in range(N):\n",
    "    for j in range(N):\n",
    "        \n",
    "        # quadrat origin coordinates\n",
    "        x0,y0 = i*quadrat_xsize, j*quadrat_ysize\n",
    "        im_quadrat = im[int(y0):int(y0+quadrat_ysize),int(x0):int(x0+quadrat_xsize)]\n",
    "\n",
    "        # White percentage\n",
    "        NSP = (im_quadrat.sum()/255)  / (im_quadrat.shape[0]*im_quadrat.shape[1]) * 100\n",
    "        NSP_values[i,j]=NSP\n",
    "        \n",
    "        \n",
    "        # Number of nodules\n",
    "        NBN = 0\n",
    "        for xc,yc in zip(xcentroids, ycentroids):\n",
    "            if insideBBox(xc, yc, x0, y0, quadrat_xsize, quadrat_ysize):\n",
    "                NBN +=1\n",
    "        \n",
    "        NBN_values[i,j]=NBN\n",
    "                \n",
    "                \n",
    "        # Gamma\n",
    "        if NBN != 0:\n",
    "            Gamma_values[i,j] = NSP / NBN\n",
    "        else:\n",
    "            Gamma_values[i,j] = np.nan\n",
    "\n",
    "            "
   ]
  },
  {
   "cell_type": "code",
   "execution_count": null,
   "id": "249c988d",
   "metadata": {},
   "outputs": [],
   "source": [
    "fig,ax = plt.subplots()\n",
    "current_cmap = matplotlib.cm.get_cmap('hot').copy()\n",
    "current_cmap.set_bad(color='red')\n",
    "plt.imshow(Gamma_values.transpose())\n",
    "plt.colorbar()"
   ]
  },
  {
   "cell_type": "code",
   "execution_count": null,
   "id": "eeb3ffa2",
   "metadata": {},
   "outputs": [],
   "source": []
  },
  {
   "cell_type": "code",
   "execution_count": null,
   "id": "c702297c",
   "metadata": {},
   "outputs": [],
   "source": []
  }
 ],
 "metadata": {
  "kernelspec": {
   "display_name": "Python 3 (ipykernel)",
   "language": "python",
   "name": "python3"
  },
  "language_info": {
   "codemirror_mode": {
    "name": "ipython",
    "version": 3
   },
   "file_extension": ".py",
   "mimetype": "text/x-python",
   "name": "python",
   "nbconvert_exporter": "python",
   "pygments_lexer": "ipython3",
   "version": "3.7.11"
  }
 },
 "nbformat": 4,
 "nbformat_minor": 5
}
